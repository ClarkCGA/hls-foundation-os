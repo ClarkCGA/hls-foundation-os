{
 "cells": [
  {
   "cell_type": "markdown",
   "metadata": {},
   "source": [
    "### Check if GPU is available and main packages are installed correctly"
   ]
  },
  {
   "cell_type": "code",
   "execution_count": null,
   "metadata": {},
   "outputs": [],
   "source": [
    "import torch\n",
    "torch.cuda.is_available()\n",
    "#torch.cuda.device_count()"
   ]
  },
  {
   "cell_type": "code",
   "execution_count": null,
   "metadata": {},
   "outputs": [],
   "source": [
    "import urllib3\n",
    "import charset_normalizer\n",
    "import requests\n",
    "\n",
    "print(f'urllib3 version: {urllib3.__version__}')\n",
    "print(f'charset_normalizer version: {charset_normalizer.__version__}')\n",
    "print(f'requests version: {requests.__version__}')"
   ]
  },
  {
   "cell_type": "code",
   "execution_count": null,
   "metadata": {},
   "outputs": [],
   "source": [
    "import mmcv\n",
    "print(mmcv.__version__)"
   ]
  },
  {
   "cell_type": "code",
   "execution_count": null,
   "metadata": {},
   "outputs": [],
   "source": [
    "from mmpretrain.models.heads import MultiLabelClsHead\n",
    "from mmpretrain.models.builder import BACKBONES, HEADS"
   ]
  },
  {
   "cell_type": "code",
   "execution_count": null,
   "metadata": {},
   "outputs": [],
   "source": [
    "import mmengine\n",
    "from mmengine.runner"
   ]
  },
  {
   "cell_type": "markdown",
   "metadata": {},
   "source": [
    "### Convert the csv file to a dictionary of standard data format of MMLab"
   ]
  },
  {
   "cell_type": "code",
   "execution_count": null,
   "metadata": {},
   "outputs": [],
   "source": [
    "import csv\n",
    "import json\n",
    "import numpy as np\n",
    "import pandas as pd\n",
    "import matplotlib.pyplot as plt\n",
    "import random\n",
    "\n",
    "\n",
    "def csv_to_dict(src_dir, in_csv_path, out_json_path):\n",
    "    \n",
    "    result_dict = {\"metainfo\": {}, \"data_list\": []}\n",
    "    \n",
    "    with open(in_csv_path, 'r') as csvfile:\n",
    "        reader = csv.DictReader(csvfile)\n",
    "        \n",
    "        # Extract column names to form classes, skipping '', 'center_lon', 'center_lat', and 'chip_id'\n",
    "        result_dict[\"metainfo\"][\"classes\"] = [field for field in reader.fieldnames if field not in [\"\", \"center_lon\", \"center_lat\", \"chip_id\"]]\n",
    "        \n",
    "        # Convert each row to the required dictionary format\n",
    "        for row in reader:\n",
    "            data_item = {}\n",
    "            \n",
    "            # Construct image path\n",
    "            data_item[\"img_path\"] = f\"{src_dir}/chip_{row['chip_id']}.tif\"\n",
    "            \n",
    "            # Construct ground truth labels\n",
    "            gt_labels = [i for i, class_name in enumerate(result_dict[\"metainfo\"][\"classes\"]) if int(row[class_name]) == 1]\n",
    "            data_item[\"gt_label\"] = gt_labels\n",
    "            \n",
    "            # Append to data list\n",
    "            result_dict[\"data_list\"].append(data_item)\n",
    "            \n",
    "    # Save the result dictionary as a JSON file\n",
    "    with open(out_json_path, \"w\") as jsonfile:\n",
    "        json.dump(result_dict, jsonfile, indent=4)\n"
   ]
  },
  {
   "cell_type": "code",
   "execution_count": null,
   "metadata": {},
   "outputs": [],
   "source": [
    "# Test the function\n",
    "src_dir = \"/mnt/c/My_documents/summer_project/task2_gfm/hls-foundation-os/data/chips\"\n",
    "in_csv_path = \"/mnt/c/My_documents/summer_project/task2_gfm/hls-foundation-os/data/annotations/CEO_plot_id.csv\"  \n",
    "out_json_path = \"/mnt/c/My_documents/summer_project/task2_gfm/hls-foundation-os/data/annotations/dataset_dict.json\"\n",
    "csv_to_dict(src_dir, in_csv_path, out_json_path)"
   ]
  },
  {
   "cell_type": "code",
   "execution_count": null,
   "metadata": {},
   "outputs": [],
   "source": [
    "class CSVConverter:\n",
    "    \n",
    "    def __init__(self, src_dir, in_csv_path):\n",
    "        self.src_dir = src_dir\n",
    "        self.in_csv_path = in_csv_path\n",
    "        self.data = self._parse_csv()\n",
    "        \n",
    "    def _parse_csv(self):\n",
    "        with open(self.in_csv_path, \"r\") as f:\n",
    "            reader = csv.reader(f)\n",
    "            rows = list(reader)\n",
    "        \n",
    "        header = rows[0]\n",
    "        classes = header[3:-1]\n",
    "        \n",
    "        data_list = []\n",
    "        for row in rows[1:]:\n",
    "            img_path = f\"{self.src_dir}/chip_{row[-1]}.tif\"\n",
    "            gt_label = [i for i, value in enumerate(row[3:-1]) if int(value) == 1]\n",
    "            data_list.append({\n",
    "                \"img_path\": img_path,\n",
    "                \"gt_label\": gt_label\n",
    "            })\n",
    "        \n",
    "        return {\n",
    "            \"metainfo\": {\n",
    "                \"classes\": classes\n",
    "            },\n",
    "            \"data_list\": data_list\n",
    "        }\n",
    "    \n",
    "    def get_data(self):\n",
    "        return self.data"
   ]
  },
  {
   "cell_type": "code",
   "execution_count": null,
   "metadata": {},
   "outputs": [],
   "source": [
    "src_dir = \"/mnt/c/My_documents/summer_project/task2_gfm/hls-foundation-os/data/chips\"\n",
    "in_csv_path = \"/mnt/c/My_documents/summer_project/task2_gfm/hls-foundation-os/data/annotations/CEO_plot_id.csv\" "
   ]
  },
  {
   "cell_type": "code",
   "execution_count": null,
   "metadata": {},
   "outputs": [],
   "source": [
    "converter = CSVConverter(src_dir, in_csv_path)\n",
    "print(converter.get_data())"
   ]
  },
  {
   "cell_type": "markdown",
   "metadata": {},
   "source": [
    "### read from package"
   ]
  },
  {
   "cell_type": "code",
   "execution_count": null,
   "metadata": {},
   "outputs": [],
   "source": [
    "from geospatial_fm import MultiLabelGeospatialDataset\n",
    "from geospatial_fm import LoadGeospatialImageFromFile"
   ]
  },
  {
   "cell_type": "code",
   "execution_count": null,
   "metadata": {},
   "outputs": [],
   "source": [
    "ann_file = \"/mnt/c/My_documents/summer_project/task2_gfm/hls-foundation-os/data/annotations/dataset_dict.json\"\n",
    "train_split = \"/mnt/c/My_documents/summer_project/task2_gfm/hls-foundation-os/data_splits/multi_label_classification/train.txt\"\n",
    "val_split = \"/mnt/c/My_documents/summer_project/task2_gfm/hls-foundation-os/data_splits/multi_label_classification/val.txt\"\n",
    "train_dataset = MultiLabelGeospatialDataset(ann_file, train_split)"
   ]
  },
  {
   "cell_type": "code",
   "execution_count": null,
   "metadata": {},
   "outputs": [],
   "source": [
    "len(train_dataset)"
   ]
  },
  {
   "cell_type": "markdown",
   "metadata": {},
   "source": [
    "### Custom Dataset"
   ]
  },
  {
   "cell_type": "code",
   "execution_count": null,
   "metadata": {},
   "outputs": [],
   "source": [
    "from mmpretrain.registry import DATASETS\n",
    "from mmpretrain.datasets.base_dataset import BaseDataset\n",
    "from typing import List, Any, Union, Optional\n",
    "\n",
    "#@DATASETS.register_module()\n",
    "class MultiLabelDataset(BaseDataset):\n",
    "    \"\"\"Multi-label Dataset for image classification.\n",
    "\n",
    "    This dataset extends BaseDataset to support multi-label classification.\n",
    "\n",
    "    Args:\n",
    "        ann_file (str): Annotation file path.\n",
    "        metainfo (dict, optional): Meta information for dataset, such as class information.\n",
    "        ... (Other arguments inherited from BaseDataset)\n",
    "\n",
    "    \"\"\"\n",
    "\n",
    "    def __init__(self, \n",
    "                 ann_file: str,\n",
    "                 metainfo: Optional[dict] = None,\n",
    "                 **kwargs: Any):\n",
    "        # Custom checks or operations for ann_file can go here\n",
    "        if not ann_file.endswith('.json'):\n",
    "            raise ValueError(\"Annotation file must be a .json file\")\n",
    "        \n",
    "        # Call the parent class's init method\n",
    "        super().__init__(ann_file=ann_file, metainfo=metainfo, **kwargs)\n",
    "\n",
    "    def get_cat_ids(self, idx: int) -> list[int]:\n",
    "        \"\"\"Get category ids by index.\n",
    "\n",
    "        Args:\n",
    "            idx (int): Index of data.\n",
    "\n",
    "        Returns:\n",
    "            list[int]: Image categories of specified index.\n",
    "\n",
    "        \"\"\"\n",
    "        data_info = self.get_data_info(idx)\n",
    "        if 'gt_label' not in data_info:\n",
    "            raise KeyError(f\"'gt_label' not found in data_info for index {idx}\")\n",
    "        \n",
    "        return data_info['gt_label']"
   ]
  },
  {
   "cell_type": "code",
   "execution_count": null,
   "metadata": {},
   "outputs": [],
   "source": [
    "annotation_file = \"/mnt/c/My_documents/summer_project/task2_gfm/hls-foundation-os/data/annotations/dataset_dict.json\"\n",
    "complete_dataset = MultiLabelDataset(annotation_file)"
   ]
  },
  {
   "cell_type": "code",
   "execution_count": null,
   "metadata": {},
   "outputs": [],
   "source": [
    "complete_dataset[-1]"
   ]
  },
  {
   "cell_type": "markdown",
   "metadata": {},
   "source": [
    "### Get the split indices for train, validation"
   ]
  },
  {
   "cell_type": "markdown",
   "metadata": {},
   "source": [
    "#### CSV output"
   ]
  },
  {
   "cell_type": "code",
   "execution_count": null,
   "metadata": {},
   "outputs": [],
   "source": [
    "# Create a csv out of the train_dataset\n",
    "def save_to_csv(dataset, output_csv_path):\n",
    "    with open(output_csv_path, mode='w', newline='') as csv_file:\n",
    "        csv_writer = csv.writer(csv_file)\n",
    "        # Write the header\n",
    "        csv_writer.writerow(['chip_name', 'label', 'sample_idx'])\n",
    "\n",
    "        # Iterate through the dataset and write the rows\n",
    "        for sample in dataset:\n",
    "            img_path = sample['img_path']\n",
    "            chip_name = img_path.split('/')[-1]\n",
    "            sample_idx = sample['sample_idx']\n",
    "            label = sample['gt_label']\n",
    "            csv_writer.writerow([chip_name, label, sample_idx])"
   ]
  },
  {
   "cell_type": "code",
   "execution_count": null,
   "metadata": {},
   "outputs": [],
   "source": [
    "save_to_csv(complete_dataset, \"/mnt/c/My_documents/summer_project/task2_gfm/hls-foundation-os/data/output.csv\")"
   ]
  },
  {
   "cell_type": "markdown",
   "metadata": {},
   "source": [
    "#### txt output"
   ]
  },
  {
   "cell_type": "code",
   "execution_count": null,
   "metadata": {},
   "outputs": [],
   "source": [
    "def plot_label_distribution(labels, title):\n",
    "    label_freq = {}\n",
    "    for label_list in labels:\n",
    "        for label in label_list:\n",
    "            if label in label_freq:\n",
    "                label_freq[label] += 1\n",
    "            else:\n",
    "                label_freq[label] = 1\n",
    "\n",
    "    # Plotting\n",
    "    labels, freqs = zip(*sorted(label_freq.items()))\n",
    "    plt.bar(labels, freqs)\n",
    "    plt.xlabel('Label Index')\n",
    "    plt.ylabel('Frequency')\n",
    "    plt.title(title)\n",
    "    plt.xticks(labels)\n",
    "    plt.show()\n",
    "\n",
    "\n",
    "def save_sample_idx_to_txt(samples, output_txt_path):\n",
    "    with open(output_txt_path, 'w') as f:\n",
    "        for sample in samples:\n",
    "            f.write(str(sample['sample_idx']) + '\\n')\n",
    "\n",
    "\n",
    "def split_and_plot_dataset(csv_path, split_ratio):\n",
    "    # Read CSV\n",
    "    df = pd.read_csv(csv_path)\n",
    "    df['label'] = df['label'].apply(eval)  # Convert string representation of list to list\n",
    "    all_samples = df.to_dict('records')\n",
    "\n",
    "    # Shuffle and split\n",
    "    random.shuffle(all_samples)\n",
    "    split_index = int(len(all_samples) * split_ratio)\n",
    "    selected_samples = all_samples[:split_index]\n",
    "    remaining_samples = all_samples[split_index:]\n",
    "\n",
    "    # Plot label distribution\n",
    "    plot_label_distribution([sample['label'] for sample in selected_samples], 'Selected Sample Label Distribution')\n",
    "    plot_label_distribution([sample['label'] for sample in remaining_samples], 'Remaining Sample Label Distribution')\n",
    "\n",
    "    return selected_samples, remaining_samples"
   ]
  },
  {
   "cell_type": "code",
   "execution_count": null,
   "metadata": {},
   "outputs": [],
   "source": [
    "split_csv_file = \"/mnt/c/My_documents/summer_project/task2_gfm/hls-foundation-os/data/output.csv\"\n",
    "selected_samples, remaining_samples = split_and_plot_dataset(split_csv_file, 0.8)"
   ]
  },
  {
   "cell_type": "code",
   "execution_count": null,
   "metadata": {},
   "outputs": [],
   "source": [
    "save_sample_idx_to_txt(selected_samples, 'train.txt')\n",
    "save_sample_idx_to_txt(remaining_samples, 'val.txt')"
   ]
  },
  {
   "cell_type": "markdown",
   "metadata": {},
   "source": [
    "### Calculate mean and standard deviation per band over the whole dataset"
   ]
  },
  {
   "cell_type": "code",
   "execution_count": null,
   "metadata": {},
   "outputs": [],
   "source": [
    "import os\n",
    "import glob\n",
    "import xarray as xr\n",
    "import numpy as np\n",
    "import pandas as pd\n",
    "\n",
    "def calculate_mean_std_and_save_as_csv(src_dir, file_pattern='chip*.tif', output_csv='result.csv'):\n",
    "    \n",
    "    # Find all TIFF files in the specified directory\n",
    "    file_paths = glob.glob(os.path.join(src_dir, file_pattern))\n",
    "\n",
    "    if not file_paths:\n",
    "        print(f\"No TIFF files found in the directory '{src_dir}' with the pattern '{file_pattern}'\")\n",
    "        return\n",
    "\n",
    "    # Open and concatenate all TIFF files using xarray\n",
    "    dataset = xr.open_mfdataset(file_paths)\n",
    "\n",
    "    # Calculate mean and standard deviation for each band\n",
    "    band_means = dataset.mean(dim=['x', 'y'])\n",
    "    band_stds = dataset.std(dim=['x', 'y'])\n",
    "\n",
    "    # Create a DataFrame to store the results\n",
    "    result_df = pd.DataFrame({'Band': band_means.band.values, 'Mean': band_means.values, 'StdDev': band_stds.values})\n",
    "\n",
    "    # Print the results to the screen\n",
    "    print(\"Mean and Standard Deviation for Each Band:\")\n",
    "    print(result_df)\n",
    "\n",
    "    # Save the results as a CSV file\n",
    "    result_df.to_csv(output_csv, index=False)\n",
    "    print(f\"Results saved to '{output_csv}'\")\n"
   ]
  },
  {
   "cell_type": "code",
   "execution_count": null,
   "metadata": {},
   "outputs": [],
   "source": [
    "# Example usage:\n",
    "directory = \"/mnt/c/My_documents/summer_project/task2_gfm/hls-foundation-os/data/chips\"\n",
    "output_csv='/mnt/c/My_documents/summer_project/task2_gfm/hls-foundation-os/data/result.csv'\n",
    "calculate_mean_std_and_save_as_csv(directory, output_csv='result.csv')"
   ]
  },
  {
   "cell_type": "markdown",
   "metadata": {},
   "source": [
    "#### Calculate global class weights"
   ]
  },
  {
   "cell_type": "code",
   "execution_count": null,
   "metadata": {},
   "outputs": [],
   "source": [
    "import json\n",
    "import numpy as np\n",
    "\n",
    "def calculate_global_class_weights_from_json(json_file_path, ignore_index=0):\n",
    "    \"\"\"\n",
    "    Calculate class weights based on the global class distribution from a JSON file.\n",
    "\n",
    "    This function calculates the class weights based on the global class distribution\n",
    "    over the entire dataset based on the inverse frequency ratio formula.\n",
    "\n",
    "    Parameters:\n",
    "    json_file_path (str): Path to the JSON file containing \"gt_label\" for each sample.\n",
    "    ignore_index (int, optional): The class index to be ignored when calculating \n",
    "                                  the class weights. Defaults to 0.\n",
    "\n",
    "    Returns:\n",
    "    numpy array: The class weights for the dataset as an array.\n",
    "    \"\"\"\n",
    "    # Load the JSON file\n",
    "    with open(json_file_path, 'r') as json_file:\n",
    "        data = json.load(json_file)\n",
    "\n",
    "    # Extract the list of \"gt_label\" arrays from each sample\n",
    "    gt_labels = [sample[\"gt_label\"] for sample in data[\"data_list\"]]\n",
    "\n",
    "    # Calculate the global counts for each class\n",
    "    num_classes = len(data[\"metainfo\"][\"classes\"])\n",
    "    global_counts = np.zeros(num_classes)\n",
    "\n",
    "    for labels in gt_labels:\n",
    "        unique, unique_counts = np.unique(labels, return_counts=True)\n",
    "\n",
    "        # Add the unique_counts from this sample to the global_counts\n",
    "        for u, uc in zip(unique, unique_counts):\n",
    "            global_counts[u] += uc\n",
    "\n",
    "    # Ignore the class specified by ignore_index when calculating the ratio and weight\n",
    "    valid_indices = np.arange(num_classes) != ignore_index\n",
    "    valid_counts = global_counts[valid_indices]\n",
    "    ratio = valid_counts.astype(float) / np.sum(valid_counts)\n",
    "    weights = (1. / ratio) / np.sum(1. / ratio)\n",
    "    \n",
    "    return weights"
   ]
  },
  {
   "cell_type": "code",
   "execution_count": null,
   "metadata": {},
   "outputs": [],
   "source": [
    "json_file_path = \"/mnt/c/My_documents/summer_project/task2_gfm/hls-foundation-os/data/annotations/dataset_dict.json\"\n",
    "ignore_index = -100\n",
    "\n",
    "class_weights = calculate_global_class_weights_from_json(json_file_path, ignore_index)\n",
    "print(class_weights)\n"
   ]
  },
  {
   "cell_type": "code",
   "execution_count": null,
   "metadata": {},
   "outputs": [],
   "source": [
    "! mim train mmpretrain --launcher pytorch configs/multi_label_classification.py"
   ]
  }
 ],
 "metadata": {
  "kernelspec": {
   "display_name": "task2_gfm",
   "language": "python",
   "name": "python3"
  },
  "language_info": {
   "codemirror_mode": {
    "name": "ipython",
    "version": 3
   },
   "file_extension": ".py",
   "mimetype": "text/x-python",
   "name": "python",
   "nbconvert_exporter": "python",
   "pygments_lexer": "ipython3",
   "version": "3.9.0"
  },
  "orig_nbformat": 4
 },
 "nbformat": 4,
 "nbformat_minor": 2
}
