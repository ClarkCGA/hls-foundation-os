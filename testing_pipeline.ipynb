{
 "cells": [
  {
   "cell_type": "code",
   "execution_count": 8,
   "metadata": {},
   "outputs": [],
   "source": [
    "from mmengine import Config, optim\n",
    "from mmengine.runner import Runner\n",
    "\n",
    "from geospatial_fm import MultiLabelGeospatialDataset"
   ]
  },
  {
   "cell_type": "code",
   "execution_count": 12,
   "metadata": {},
   "outputs": [
    {
     "name": "stdout",
     "output_type": "stream",
     "text": [
      "Config (path: /mnt/c/My_documents/summer_project/task2_gfm/hls-foundation-os/configs/multi_label_classification.py): {'env_cfg': {'backend': 'nccl'}, 'log_level': 'INFO', 'load_from': None, 'resume_from': None, 'cudnn_benchmark': True, 'custom_imports': {'imports': ['geospatial_fm']}, 'num_frames': 1, 'img_size': 224, 'num_workers': 2, 'pretrained_weights_path': '/mnt/c/My_documents/summer_project/task2_gfm/hls-foundation-os/data/Prithvi_100M.pt', 'num_layers': 6, 'patch_size': 16, 'embed_dim': 768, 'num_heads': 8, 'tubelet_size': 1, 'max_epochs': 80, 'eval_epoch_interval': 5, 'loss_weights_multi': [0.05004486, 0.05469906, 0.48799205, 0.0532651, 0.19849055, 0.04613963, 0.05042878, 0.05893997], 'loss_func': {'type': 'CrossEntropyLoss', 'use_sigmoid': True, 'class_weight': [0.05004486, 0.05469906, 0.48799205, 0.0532651, 0.19849055, 0.04613963, 0.05042878, 0.05893997], 'avg_non_ignore': True}, 'output_embed_dim': 768, 'experiment': 'results', 'project_dir': 'task2_gfm', 'work_dir': 'task2_gfm/results', 'save_path': 'task2_gfm/results', 'gpu_ids': range(0, 1), 'dataset_type': 'MultiLabelGeospatialDataset', 'data_root': '/mnt/c/My_documents/summer_project/task2_gfm/hls-foundation-os/data/annotations/dataset_dict.json', 'splits': {'train': '/mnt/c/My_documents/summer_project/task2_gfm/hls-foundation-os/data_splits/multi_label_classification/train.txt', 'val': '/mnt/c/My_documents/summer_project/task2_gfm/hls-foundation-os/data_splits/multi_label_classification/val.txt', 'test': '/mnt/c/My_documents/summer_project/task2_gfm/hls-foundation-os/data_splits/multi_label_classification/val.txt'}, 'img_norm_cfg': {'means': [494.905781, 815.239594, 924.335066, 2968.881459, 2634.621962, 1739.579917], 'stds': [284.925432, 357.84876, 575.566823, 896.601013, 951.900334, 921.407808]}, 'bands': [0, 1, 2, 3, 4, 5], 'train_pipeline': [{'type': 'LoadGeospatialImageFromFile', 'to_float32': True, 'channels_last': True}, {'type': 'RandomFlip', 'prob': 0.5, 'direction': 'horizontal'}, {'type': 'ToTensor', 'keys': ['img']}, {'type': 'TorchPermute', 'keys': ['img'], 'order': (2, 0, 1)}, {'type': 'TorchNormalize', 'means': [494.905781, 815.239594, 924.335066, 2968.881459, 2634.621962, 1739.579917], 'stds': [284.925432, 357.84876, 575.566823, 896.601013, 951.900334, 921.407808]}, {'type': 'Reshape', 'keys': ['img'], 'new_shape': (6, 1, 224, 224)}, {'type': 'PackInputs'}], 'test_pipeline': [{'type': 'LoadGeospatialImageFromFile', 'to_float32': True, 'channels_last': True}, {'type': 'ToTensor', 'keys': ['img']}, {'type': 'TorchPermute', 'keys': ['img'], 'order': (2, 0, 1)}, {'type': 'TorchNormalize', 'means': [494.905781, 815.239594, 924.335066, 2968.881459, 2634.621962, 1739.579917], 'stds': [284.925432, 357.84876, 575.566823, 896.601013, 951.900334, 921.407808]}, {'type': 'Reshape', 'keys': ['img'], 'new_shape': (6, 1, -1, -1), 'look_up': {'2': 1, '3': 2}}, {'type': 'CastTensor', 'keys': ['img'], 'new_type': 'torch.FloatTensor'}, {'type': 'CollectTestList', 'keys': ['img'], 'meta_keys': ['img_info', 'seg_fields', 'img_prefix', 'seg_prefix', 'filename', 'ori_filename', 'img', 'img_shape', 'ori_shape', 'pad_shape', 'scale_factor', 'img_norm_cfg']}], 'CLASSES': ('Built Area', 'Grass', 'Flooded Vegetation', 'Crops', 'Shrub & Scrub', 'Trees', 'Water', 'Bare Ground'), 'dataset': 'MultiLabelGeospatialDataset', 'data': {'samples_per_gpu': 8, 'workers_per_gpu': 4, 'train': {'type': 'MultiLabelGeospatialDataset', 'CLASSES': ('Built Area', 'Grass', 'Flooded Vegetation', 'Crops', 'Shrub & Scrub', 'Trees', 'Water', 'Bare Ground'), 'data_root': '/mnt/c/My_documents/summer_project/task2_gfm/hls-foundation-os/data/annotations/dataset_dict.json', 'img_dir': 'training_chips', 'ann_dir': 'training_chips', 'pipeline': [{'type': 'LoadGeospatialImageFromFile', 'to_float32': True, 'channels_last': True}, {'type': 'RandomFlip', 'prob': 0.5, 'direction': 'horizontal'}, {'type': 'ToTensor', 'keys': ['img']}, {'type': 'TorchPermute', 'keys': ['img'], 'order': (2, 0, 1)}, {'type': 'TorchNormalize', 'means': [494.905781, 815.239594, 924.335066, 2968.881459, 2634.621962, 1739.579917], 'stds': [284.925432, 357.84876, 575.566823, 896.601013, 951.900334, 921.407808]}, {'type': 'Reshape', 'keys': ['img'], 'new_shape': (6, 1, 224, 224)}, {'type': 'PackInputs'}], 'split': '/mnt/c/My_documents/summer_project/task2_gfm/hls-foundation-os/data_splits/multi_label_classification/train.txt'}, 'val': {'type': 'MultiLabelGeospatialDataset', 'CLASSES': ('Built Area', 'Grass', 'Flooded Vegetation', 'Crops', 'Shrub & Scrub', 'Trees', 'Water', 'Bare Ground'), 'data_root': '/mnt/c/My_documents/summer_project/task2_gfm/hls-foundation-os/data/annotations/dataset_dict.json', 'img_dir': 'validation_chips', 'ann_dir': 'validation_chips', 'pipeline': [{'type': 'LoadGeospatialImageFromFile', 'to_float32': True, 'channels_last': True}, {'type': 'ToTensor', 'keys': ['img']}, {'type': 'TorchPermute', 'keys': ['img'], 'order': (2, 0, 1)}, {'type': 'TorchNormalize', 'means': [494.905781, 815.239594, 924.335066, 2968.881459, 2634.621962, 1739.579917], 'stds': [284.925432, 357.84876, 575.566823, 896.601013, 951.900334, 921.407808]}, {'type': 'Reshape', 'keys': ['img'], 'new_shape': (6, 1, -1, -1), 'look_up': {'2': 1, '3': 2}}, {'type': 'CastTensor', 'keys': ['img'], 'new_type': 'torch.FloatTensor'}, {'type': 'CollectTestList', 'keys': ['img'], 'meta_keys': ['img_info', 'seg_fields', 'img_prefix', 'seg_prefix', 'filename', 'ori_filename', 'img', 'img_shape', 'ori_shape', 'pad_shape', 'scale_factor', 'img_norm_cfg']}], 'split': '/mnt/c/My_documents/summer_project/task2_gfm/hls-foundation-os/data_splits/multi_label_classification/val.txt'}, 'test': {'type': 'MultiLabelGeospatialDataset', 'CLASSES': ('Built Area', 'Grass', 'Flooded Vegetation', 'Crops', 'Shrub & Scrub', 'Trees', 'Water', 'Bare Ground'), 'reduce_zero_label': True, 'data_root': '/mnt/c/My_documents/summer_project/task2_gfm/hls-foundation-os/data/annotations/dataset_dict.json', 'img_dir': 'validation_chips', 'ann_dir': 'validation_chips', 'pipeline': [{'type': 'LoadGeospatialImageFromFile', 'to_float32': True, 'channels_last': True}, {'type': 'ToTensor', 'keys': ['img']}, {'type': 'TorchPermute', 'keys': ['img'], 'order': (2, 0, 1)}, {'type': 'TorchNormalize', 'means': [494.905781, 815.239594, 924.335066, 2968.881459, 2634.621962, 1739.579917], 'stds': [284.925432, 357.84876, 575.566823, 896.601013, 951.900334, 921.407808]}, {'type': 'Reshape', 'keys': ['img'], 'new_shape': (6, 1, -1, -1), 'look_up': {'2': 1, '3': 2}}, {'type': 'CastTensor', 'keys': ['img'], 'new_type': 'torch.FloatTensor'}, {'type': 'CollectTestList', 'keys': ['img'], 'meta_keys': ['img_info', 'seg_fields', 'img_prefix', 'seg_prefix', 'filename', 'ori_filename', 'img', 'img_shape', 'ori_shape', 'pad_shape', 'scale_factor', 'img_norm_cfg']}], 'split': '/mnt/c/My_documents/summer_project/task2_gfm/hls-foundation-os/data_splits/multi_label_classification/val.txt'}}, 'optimizer': {'type': 'Adam', 'lr': 1.5e-05, 'betas': (0.9, 0.999), 'weight_decay': 0.05}, 'optimizer_config': {'grad_clip': None}, 'lr_config': {'policy': 'poly', 'warmup': 'linear', 'warmup_iters': 1500, 'warmup_ratio': 1e-06, 'power': 1.0, 'min_lr': 0.0, 'by_epoch': False}, 'log_config': {'interval': 10, 'hooks': [{'type': 'TextLoggerHook'}, {'type': 'TensorboardLoggerHook'}]}, 'checkpoint_config': {'by_epoch': True, 'interval': 100, 'out_dir': 'task2_gfm/results'}, 'runner': {'type': 'EpochBasedRunner', 'max_epochs': 80}, 'workflow': [('train', 1)], 'norm_cfg': {'type': 'BN', 'requires_grad': True}, 'model': {'type': 'TemporalEncoderDecoder', 'frozen_backbone': False, 'backbone': {'type': 'TemporalViTEncoder', 'pretrained': '/mnt/c/My_documents/summer_project/task2_gfm/hls-foundation-os/data/Prithvi_100M.pt', 'img_size': 224, 'patch_size': 16, 'num_frames': 1, 'tubelet_size': 1, 'in_chans': 6, 'embed_dim': 768, 'depth': 6, 'num_heads': 8, 'mlp_ratio': 4.0, 'norm_pix_loss': False}, 'neck': {'type': 'ConvTransformerTokensToEmbeddingNeck', 'embed_dim': 768, 'output_embed_dim': 768, 'drop_cls_token': True, 'Hp': 14, 'Wp': 14}, 'decode_head': {'num_classes': 8, 'in_channels': 768, 'type': 'FCNHead', 'in_index': -1, 'channels': 256, 'num_convs': 1, 'concat_input': False, 'dropout_ratio': 0.1, 'norm_cfg': {'type': 'BN', 'requires_grad': True}, 'align_corners': False, 'loss_decode': {'type': 'CrossEntropyLoss', 'use_sigmoid': True, 'class_weight': [0.05004486, 0.05469906, 0.48799205, 0.0532651, 0.19849055, 0.04613963, 0.05042878, 0.05893997], 'avg_non_ignore': True}}, 'auxiliary_head': {'num_classes': 8, 'in_channels': 768, 'type': 'FCNHead', 'in_index': -1, 'channels': 256, 'num_convs': 2, 'concat_input': False, 'dropout_ratio': 0.1, 'norm_cfg': {'type': 'BN', 'requires_grad': True}, 'align_corners': False, 'loss_decode': {'type': 'CrossEntropyLoss', 'use_sigmoid': True, 'class_weight': [0.05004486, 0.05469906, 0.48799205, 0.0532651, 0.19849055, 0.04613963, 0.05042878, 0.05893997], 'avg_non_ignore': True}}, 'train_cfg': {}, 'test_cfg': {'mode': 'slide', 'stride': (112, 112), 'crop_size': (224, 224)}}, 'auto_resume': False}\n"
     ]
    }
   ],
   "source": [
    "cfg = Config.fromfile('/mnt/c/My_documents/summer_project/task2_gfm/hls-foundation-os/configs/multi_label_classification.py')\n",
    "print(cfg)"
   ]
  },
  {
   "cell_type": "code",
   "execution_count": 13,
   "metadata": {},
   "outputs": [],
   "source": [
    "cfg.launcher = \"pytorch\""
   ]
  },
  {
   "cell_type": "code",
   "execution_count": 16,
   "metadata": {},
   "outputs": [
    {
     "ename": "ValueError",
     "evalue": "Error initializing torch.distributed using env:// rendezvous: environment variable WORLD_SIZE expected, but not set",
     "output_type": "error",
     "traceback": [
      "\u001b[0;31m---------------------------------------------------------------------------\u001b[0m",
      "\u001b[0;31mValueError\u001b[0m                                Traceback (most recent call last)",
      "\u001b[1;32m/mnt/c/My_documents/summer_project/task2_gfm/hls-foundation-os/testing_pipeline.ipynb Cell 4\u001b[0m line \u001b[0;36m5\n\u001b[1;32m      <a href='vscode-notebook-cell://wsl%2Bubuntu/mnt/c/My_documents/summer_project/task2_gfm/hls-foundation-os/testing_pipeline.ipynb#W3sdnNjb2RlLXJlbW90ZQ%3D%3D?line=2'>3</a>\u001b[0m os\u001b[39m.\u001b[39menviron[\u001b[39m'\u001b[39m\u001b[39mRANK\u001b[39m\u001b[39m'\u001b[39m] \u001b[39m=\u001b[39m \u001b[39m'\u001b[39m\u001b[39m0\u001b[39m\u001b[39m'\u001b[39m\n\u001b[1;32m      <a href='vscode-notebook-cell://wsl%2Bubuntu/mnt/c/My_documents/summer_project/task2_gfm/hls-foundation-os/testing_pipeline.ipynb#W3sdnNjb2RlLXJlbW90ZQ%3D%3D?line=3'>4</a>\u001b[0m os\u001b[39m.\u001b[39menviron[\u001b[39m'\u001b[39m\u001b[39mLOCAL_RANK\u001b[39m\u001b[39m'\u001b[39m] \u001b[39m=\u001b[39m \u001b[39m'\u001b[39m\u001b[39m0\u001b[39m\u001b[39m'\u001b[39m\n\u001b[0;32m----> <a href='vscode-notebook-cell://wsl%2Bubuntu/mnt/c/My_documents/summer_project/task2_gfm/hls-foundation-os/testing_pipeline.ipynb#W3sdnNjb2RlLXJlbW90ZQ%3D%3D?line=4'>5</a>\u001b[0m runner \u001b[39m=\u001b[39m Runner\u001b[39m.\u001b[39;49mfrom_cfg(cfg)\n",
      "File \u001b[0;32m~/miniconda3/envs/task2_gfm/lib/python3.9/site-packages/mmengine/runner/runner.py:445\u001b[0m, in \u001b[0;36mRunner.from_cfg\u001b[0;34m(cls, cfg)\u001b[0m\n\u001b[1;32m    435\u001b[0m \u001b[39m\u001b[39m\u001b[39m\"\"\"Build a runner from config.\u001b[39;00m\n\u001b[1;32m    436\u001b[0m \n\u001b[1;32m    437\u001b[0m \u001b[39mArgs:\u001b[39;00m\n\u001b[0;32m   (...)\u001b[0m\n\u001b[1;32m    442\u001b[0m \u001b[39m    Runner: A runner build from ``cfg``.\u001b[39;00m\n\u001b[1;32m    443\u001b[0m \u001b[39m\"\"\"\u001b[39;00m\n\u001b[1;32m    444\u001b[0m cfg \u001b[39m=\u001b[39m copy\u001b[39m.\u001b[39mdeepcopy(cfg)\n\u001b[0;32m--> 445\u001b[0m runner \u001b[39m=\u001b[39m \u001b[39mcls\u001b[39;49m(\n\u001b[1;32m    446\u001b[0m     model\u001b[39m=\u001b[39;49mcfg[\u001b[39m'\u001b[39;49m\u001b[39mmodel\u001b[39;49m\u001b[39m'\u001b[39;49m],\n\u001b[1;32m    447\u001b[0m     work_dir\u001b[39m=\u001b[39;49mcfg[\u001b[39m'\u001b[39;49m\u001b[39mwork_dir\u001b[39;49m\u001b[39m'\u001b[39;49m],\n\u001b[1;32m    448\u001b[0m     train_dataloader\u001b[39m=\u001b[39;49mcfg\u001b[39m.\u001b[39;49mget(\u001b[39m'\u001b[39;49m\u001b[39mtrain_dataloader\u001b[39;49m\u001b[39m'\u001b[39;49m),\n\u001b[1;32m    449\u001b[0m     val_dataloader\u001b[39m=\u001b[39;49mcfg\u001b[39m.\u001b[39;49mget(\u001b[39m'\u001b[39;49m\u001b[39mval_dataloader\u001b[39;49m\u001b[39m'\u001b[39;49m),\n\u001b[1;32m    450\u001b[0m     test_dataloader\u001b[39m=\u001b[39;49mcfg\u001b[39m.\u001b[39;49mget(\u001b[39m'\u001b[39;49m\u001b[39mtest_dataloader\u001b[39;49m\u001b[39m'\u001b[39;49m),\n\u001b[1;32m    451\u001b[0m     train_cfg\u001b[39m=\u001b[39;49mcfg\u001b[39m.\u001b[39;49mget(\u001b[39m'\u001b[39;49m\u001b[39mtrain_cfg\u001b[39;49m\u001b[39m'\u001b[39;49m),\n\u001b[1;32m    452\u001b[0m     val_cfg\u001b[39m=\u001b[39;49mcfg\u001b[39m.\u001b[39;49mget(\u001b[39m'\u001b[39;49m\u001b[39mval_cfg\u001b[39;49m\u001b[39m'\u001b[39;49m),\n\u001b[1;32m    453\u001b[0m     test_cfg\u001b[39m=\u001b[39;49mcfg\u001b[39m.\u001b[39;49mget(\u001b[39m'\u001b[39;49m\u001b[39mtest_cfg\u001b[39;49m\u001b[39m'\u001b[39;49m),\n\u001b[1;32m    454\u001b[0m     auto_scale_lr\u001b[39m=\u001b[39;49mcfg\u001b[39m.\u001b[39;49mget(\u001b[39m'\u001b[39;49m\u001b[39mauto_scale_lr\u001b[39;49m\u001b[39m'\u001b[39;49m),\n\u001b[1;32m    455\u001b[0m     optim_wrapper\u001b[39m=\u001b[39;49mcfg\u001b[39m.\u001b[39;49mget(\u001b[39m'\u001b[39;49m\u001b[39moptim_wrapper\u001b[39;49m\u001b[39m'\u001b[39;49m),\n\u001b[1;32m    456\u001b[0m     param_scheduler\u001b[39m=\u001b[39;49mcfg\u001b[39m.\u001b[39;49mget(\u001b[39m'\u001b[39;49m\u001b[39mparam_scheduler\u001b[39;49m\u001b[39m'\u001b[39;49m),\n\u001b[1;32m    457\u001b[0m     val_evaluator\u001b[39m=\u001b[39;49mcfg\u001b[39m.\u001b[39;49mget(\u001b[39m'\u001b[39;49m\u001b[39mval_evaluator\u001b[39;49m\u001b[39m'\u001b[39;49m),\n\u001b[1;32m    458\u001b[0m     test_evaluator\u001b[39m=\u001b[39;49mcfg\u001b[39m.\u001b[39;49mget(\u001b[39m'\u001b[39;49m\u001b[39mtest_evaluator\u001b[39;49m\u001b[39m'\u001b[39;49m),\n\u001b[1;32m    459\u001b[0m     default_hooks\u001b[39m=\u001b[39;49mcfg\u001b[39m.\u001b[39;49mget(\u001b[39m'\u001b[39;49m\u001b[39mdefault_hooks\u001b[39;49m\u001b[39m'\u001b[39;49m),\n\u001b[1;32m    460\u001b[0m     custom_hooks\u001b[39m=\u001b[39;49mcfg\u001b[39m.\u001b[39;49mget(\u001b[39m'\u001b[39;49m\u001b[39mcustom_hooks\u001b[39;49m\u001b[39m'\u001b[39;49m),\n\u001b[1;32m    461\u001b[0m     data_preprocessor\u001b[39m=\u001b[39;49mcfg\u001b[39m.\u001b[39;49mget(\u001b[39m'\u001b[39;49m\u001b[39mdata_preprocessor\u001b[39;49m\u001b[39m'\u001b[39;49m),\n\u001b[1;32m    462\u001b[0m     load_from\u001b[39m=\u001b[39;49mcfg\u001b[39m.\u001b[39;49mget(\u001b[39m'\u001b[39;49m\u001b[39mload_from\u001b[39;49m\u001b[39m'\u001b[39;49m),\n\u001b[1;32m    463\u001b[0m     resume\u001b[39m=\u001b[39;49mcfg\u001b[39m.\u001b[39;49mget(\u001b[39m'\u001b[39;49m\u001b[39mresume\u001b[39;49m\u001b[39m'\u001b[39;49m, \u001b[39mFalse\u001b[39;49;00m),\n\u001b[1;32m    464\u001b[0m     launcher\u001b[39m=\u001b[39;49mcfg\u001b[39m.\u001b[39;49mget(\u001b[39m'\u001b[39;49m\u001b[39mlauncher\u001b[39;49m\u001b[39m'\u001b[39;49m, \u001b[39m'\u001b[39;49m\u001b[39mnone\u001b[39;49m\u001b[39m'\u001b[39;49m),\n\u001b[1;32m    465\u001b[0m     env_cfg\u001b[39m=\u001b[39;49mcfg\u001b[39m.\u001b[39;49mget(\u001b[39m'\u001b[39;49m\u001b[39menv_cfg\u001b[39;49m\u001b[39m'\u001b[39;49m),  \u001b[39m# type: ignore\u001b[39;49;00m\n\u001b[1;32m    466\u001b[0m     log_processor\u001b[39m=\u001b[39;49mcfg\u001b[39m.\u001b[39;49mget(\u001b[39m'\u001b[39;49m\u001b[39mlog_processor\u001b[39;49m\u001b[39m'\u001b[39;49m),\n\u001b[1;32m    467\u001b[0m     log_level\u001b[39m=\u001b[39;49mcfg\u001b[39m.\u001b[39;49mget(\u001b[39m'\u001b[39;49m\u001b[39mlog_level\u001b[39;49m\u001b[39m'\u001b[39;49m, \u001b[39m'\u001b[39;49m\u001b[39mINFO\u001b[39;49m\u001b[39m'\u001b[39;49m),\n\u001b[1;32m    468\u001b[0m     visualizer\u001b[39m=\u001b[39;49mcfg\u001b[39m.\u001b[39;49mget(\u001b[39m'\u001b[39;49m\u001b[39mvisualizer\u001b[39;49m\u001b[39m'\u001b[39;49m),\n\u001b[1;32m    469\u001b[0m     default_scope\u001b[39m=\u001b[39;49mcfg\u001b[39m.\u001b[39;49mget(\u001b[39m'\u001b[39;49m\u001b[39mdefault_scope\u001b[39;49m\u001b[39m'\u001b[39;49m, \u001b[39m'\u001b[39;49m\u001b[39mmmengine\u001b[39;49m\u001b[39m'\u001b[39;49m),\n\u001b[1;32m    470\u001b[0m     randomness\u001b[39m=\u001b[39;49mcfg\u001b[39m.\u001b[39;49mget(\u001b[39m'\u001b[39;49m\u001b[39mrandomness\u001b[39;49m\u001b[39m'\u001b[39;49m, \u001b[39mdict\u001b[39;49m(seed\u001b[39m=\u001b[39;49m\u001b[39mNone\u001b[39;49;00m)),\n\u001b[1;32m    471\u001b[0m     experiment_name\u001b[39m=\u001b[39;49mcfg\u001b[39m.\u001b[39;49mget(\u001b[39m'\u001b[39;49m\u001b[39mexperiment_name\u001b[39;49m\u001b[39m'\u001b[39;49m),\n\u001b[1;32m    472\u001b[0m     cfg\u001b[39m=\u001b[39;49mcfg,\n\u001b[1;32m    473\u001b[0m )\n\u001b[1;32m    475\u001b[0m \u001b[39mreturn\u001b[39;00m runner\n",
      "File \u001b[0;32m~/miniconda3/envs/task2_gfm/lib/python3.9/site-packages/mmengine/runner/runner.py:355\u001b[0m, in \u001b[0;36mRunner.__init__\u001b[0;34m(self, model, work_dir, train_dataloader, val_dataloader, test_dataloader, train_cfg, val_cfg, test_cfg, auto_scale_lr, optim_wrapper, param_scheduler, val_evaluator, test_evaluator, default_hooks, custom_hooks, data_preprocessor, load_from, resume, launcher, env_cfg, log_processor, log_level, visualizer, default_scope, randomness, experiment_name, cfg)\u001b[0m\n\u001b[1;32m    350\u001b[0m     \u001b[39mself\u001b[39m\u001b[39m.\u001b[39m_distributed \u001b[39m=\u001b[39m \u001b[39mTrue\u001b[39;00m\n\u001b[1;32m    352\u001b[0m \u001b[39m# self._timestamp will be set in the `setup_env` method. Besides,\u001b[39;00m\n\u001b[1;32m    353\u001b[0m \u001b[39m# it also will initialize multi-process and (or) distributed\u001b[39;00m\n\u001b[1;32m    354\u001b[0m \u001b[39m# environment.\u001b[39;00m\n\u001b[0;32m--> 355\u001b[0m \u001b[39mself\u001b[39;49m\u001b[39m.\u001b[39;49msetup_env(env_cfg)\n\u001b[1;32m    356\u001b[0m \u001b[39m# self._deterministic and self._seed will be set in the\u001b[39;00m\n\u001b[1;32m    357\u001b[0m \u001b[39m# `set_randomness`` method\u001b[39;00m\n\u001b[1;32m    358\u001b[0m \u001b[39mself\u001b[39m\u001b[39m.\u001b[39m_randomness_cfg \u001b[39m=\u001b[39m randomness\n",
      "File \u001b[0;32m~/miniconda3/envs/task2_gfm/lib/python3.9/site-packages/mmengine/runner/runner.py:658\u001b[0m, in \u001b[0;36mRunner.setup_env\u001b[0;34m(self, env_cfg)\u001b[0m\n\u001b[1;32m    656\u001b[0m \u001b[39mif\u001b[39;00m \u001b[39mself\u001b[39m\u001b[39m.\u001b[39mdistributed \u001b[39mand\u001b[39;00m \u001b[39mnot\u001b[39;00m is_distributed():\n\u001b[1;32m    657\u001b[0m     dist_cfg: \u001b[39mdict\u001b[39m \u001b[39m=\u001b[39m env_cfg\u001b[39m.\u001b[39mget(\u001b[39m'\u001b[39m\u001b[39mdist_cfg\u001b[39m\u001b[39m'\u001b[39m, {})\n\u001b[0;32m--> 658\u001b[0m     init_dist(\u001b[39mself\u001b[39;49m\u001b[39m.\u001b[39;49mlauncher, \u001b[39m*\u001b[39;49m\u001b[39m*\u001b[39;49mdist_cfg)\n\u001b[1;32m    660\u001b[0m \u001b[39mself\u001b[39m\u001b[39m.\u001b[39m_rank, \u001b[39mself\u001b[39m\u001b[39m.\u001b[39m_world_size \u001b[39m=\u001b[39m get_dist_info()\n\u001b[1;32m    662\u001b[0m timestamp \u001b[39m=\u001b[39m torch\u001b[39m.\u001b[39mtensor(time\u001b[39m.\u001b[39mtime(), dtype\u001b[39m=\u001b[39mtorch\u001b[39m.\u001b[39mfloat64)\n",
      "File \u001b[0;32m~/miniconda3/envs/task2_gfm/lib/python3.9/site-packages/mmengine/dist/utils.py:84\u001b[0m, in \u001b[0;36minit_dist\u001b[0;34m(launcher, backend, init_backend, **kwargs)\u001b[0m\n\u001b[1;32m     82\u001b[0m     mp\u001b[39m.\u001b[39mset_start_method(\u001b[39m'\u001b[39m\u001b[39mspawn\u001b[39m\u001b[39m'\u001b[39m)\n\u001b[1;32m     83\u001b[0m \u001b[39mif\u001b[39;00m launcher \u001b[39m==\u001b[39m \u001b[39m'\u001b[39m\u001b[39mpytorch\u001b[39m\u001b[39m'\u001b[39m:\n\u001b[0;32m---> 84\u001b[0m     _init_dist_pytorch(backend, init_backend\u001b[39m=\u001b[39;49minit_backend, \u001b[39m*\u001b[39;49m\u001b[39m*\u001b[39;49mkwargs)\n\u001b[1;32m     85\u001b[0m \u001b[39melif\u001b[39;00m launcher \u001b[39m==\u001b[39m \u001b[39m'\u001b[39m\u001b[39mmpi\u001b[39m\u001b[39m'\u001b[39m:\n\u001b[1;32m     86\u001b[0m     _init_dist_mpi(backend, \u001b[39m*\u001b[39m\u001b[39m*\u001b[39mkwargs)\n",
      "File \u001b[0;32m~/miniconda3/envs/task2_gfm/lib/python3.9/site-packages/mmengine/dist/utils.py:125\u001b[0m, in \u001b[0;36m_init_dist_pytorch\u001b[0;34m(backend, init_backend, **kwargs)\u001b[0m\n\u001b[1;32m    122\u001b[0m torch\u001b[39m.\u001b[39mcuda\u001b[39m.\u001b[39mset_device(local_rank)\n\u001b[1;32m    124\u001b[0m \u001b[39mif\u001b[39;00m init_backend \u001b[39m==\u001b[39m \u001b[39m'\u001b[39m\u001b[39mtorch\u001b[39m\u001b[39m'\u001b[39m:\n\u001b[0;32m--> 125\u001b[0m     torch_dist\u001b[39m.\u001b[39;49minit_process_group(backend\u001b[39m=\u001b[39;49mbackend, \u001b[39m*\u001b[39;49m\u001b[39m*\u001b[39;49mkwargs)\n\u001b[1;32m    126\u001b[0m \u001b[39melif\u001b[39;00m init_backend \u001b[39m==\u001b[39m \u001b[39m'\u001b[39m\u001b[39mdeepspeed\u001b[39m\u001b[39m'\u001b[39m:\n\u001b[1;32m    127\u001b[0m     \u001b[39mimport\u001b[39;00m \u001b[39mdeepspeed\u001b[39;00m\n",
      "File \u001b[0;32m~/miniconda3/envs/task2_gfm/lib/python3.9/site-packages/torch/distributed/distributed_c10d.py:595\u001b[0m, in \u001b[0;36minit_process_group\u001b[0;34m(backend, init_method, timeout, world_size, rank, store, group_name, pg_options)\u001b[0m\n\u001b[1;32m    591\u001b[0m \u001b[39mif\u001b[39;00m store \u001b[39mis\u001b[39;00m \u001b[39mNone\u001b[39;00m:\n\u001b[1;32m    592\u001b[0m     rendezvous_iterator \u001b[39m=\u001b[39m rendezvous(\n\u001b[1;32m    593\u001b[0m         init_method, rank, world_size, timeout\u001b[39m=\u001b[39mtimeout\n\u001b[1;32m    594\u001b[0m     )\n\u001b[0;32m--> 595\u001b[0m     store, rank, world_size \u001b[39m=\u001b[39m \u001b[39mnext\u001b[39;49m(rendezvous_iterator)\n\u001b[1;32m    596\u001b[0m     store\u001b[39m.\u001b[39mset_timeout(timeout)\n\u001b[1;32m    598\u001b[0m     \u001b[39m# Use a PrefixStore to avoid accidental overrides of keys used by\u001b[39;00m\n\u001b[1;32m    599\u001b[0m     \u001b[39m# different systems (e.g. RPC) in case the store is multi-tenant.\u001b[39;00m\n",
      "File \u001b[0;32m~/miniconda3/envs/task2_gfm/lib/python3.9/site-packages/torch/distributed/rendezvous.py:227\u001b[0m, in \u001b[0;36m_env_rendezvous_handler\u001b[0;34m(url, timeout, **kwargs)\u001b[0m\n\u001b[1;32m    225\u001b[0m     world_size \u001b[39m=\u001b[39m \u001b[39mint\u001b[39m(query[\u001b[39m\"\u001b[39m\u001b[39mworld_size\u001b[39m\u001b[39m\"\u001b[39m])\n\u001b[1;32m    226\u001b[0m \u001b[39melse\u001b[39;00m:\n\u001b[0;32m--> 227\u001b[0m     world_size \u001b[39m=\u001b[39m \u001b[39mint\u001b[39m(_get_env_or_raise(\u001b[39m\"\u001b[39;49m\u001b[39mWORLD_SIZE\u001b[39;49m\u001b[39m\"\u001b[39;49m))\n\u001b[1;32m    229\u001b[0m master_addr \u001b[39m=\u001b[39m _get_env_or_raise(\u001b[39m\"\u001b[39m\u001b[39mMASTER_ADDR\u001b[39m\u001b[39m\"\u001b[39m)\n\u001b[1;32m    230\u001b[0m master_port \u001b[39m=\u001b[39m \u001b[39mint\u001b[39m(_get_env_or_raise(\u001b[39m\"\u001b[39m\u001b[39mMASTER_PORT\u001b[39m\u001b[39m\"\u001b[39m))\n",
      "File \u001b[0;32m~/miniconda3/envs/task2_gfm/lib/python3.9/site-packages/torch/distributed/rendezvous.py:206\u001b[0m, in \u001b[0;36m_env_rendezvous_handler.<locals>._get_env_or_raise\u001b[0;34m(env_var)\u001b[0m\n\u001b[1;32m    204\u001b[0m env_val \u001b[39m=\u001b[39m os\u001b[39m.\u001b[39menviron\u001b[39m.\u001b[39mget(env_var, \u001b[39mNone\u001b[39;00m)\n\u001b[1;32m    205\u001b[0m \u001b[39mif\u001b[39;00m \u001b[39mnot\u001b[39;00m env_val:\n\u001b[0;32m--> 206\u001b[0m     \u001b[39mraise\u001b[39;00m _env_error(env_var)\n\u001b[1;32m    207\u001b[0m \u001b[39melse\u001b[39;00m:\n\u001b[1;32m    208\u001b[0m     \u001b[39mreturn\u001b[39;00m env_val\n",
      "\u001b[0;31mValueError\u001b[0m: Error initializing torch.distributed using env:// rendezvous: environment variable WORLD_SIZE expected, but not set"
     ]
    }
   ],
   "source": [
    "import os\n",
    "\n",
    "os.environ['RANK'] = '0'\n",
    "os.environ['LOCAL_RANK'] = '0'\n",
    "runner = Runner.from_cfg(cfg)"
   ]
  },
  {
   "cell_type": "code",
   "execution_count": 33,
   "metadata": {},
   "outputs": [],
   "source": [
    "import torch"
   ]
  },
  {
   "cell_type": "code",
   "execution_count": 34,
   "metadata": {},
   "outputs": [],
   "source": [
    "pretrained_weights_path = \"/mnt/c/My_documents/summer_project/task2_gfm/hls-foundation-os/data/Prithvi_100M.pt\""
   ]
  },
  {
   "cell_type": "code",
   "execution_count": 35,
   "metadata": {},
   "outputs": [],
   "source": [
    "state_dict = torch.load(pretrained_weights_path)"
   ]
  },
  {
   "cell_type": "code",
   "execution_count": 5,
   "metadata": {},
   "outputs": [],
   "source": [
    "model_keys = [key for key in state_dict.keys()]"
   ]
  },
  {
   "cell_type": "code",
   "execution_count": 9,
   "metadata": {},
   "outputs": [
    {
     "data": {
      "text/plain": [
       "['cls_token',\n",
       " 'pos_embed',\n",
       " 'mask_token',\n",
       " 'decoder_pos_embed',\n",
       " 'patch_embed.proj.weight',\n",
       " 'patch_embed.proj.bias',\n",
       " 'blocks.0.norm1.weight',\n",
       " 'blocks.0.norm1.bias',\n",
       " 'blocks.0.attn.qkv.weight',\n",
       " 'blocks.0.attn.qkv.bias',\n",
       " 'blocks.0.attn.proj.weight',\n",
       " 'blocks.0.attn.proj.bias',\n",
       " 'blocks.0.norm2.weight',\n",
       " 'blocks.0.norm2.bias',\n",
       " 'blocks.0.mlp.fc1.weight',\n",
       " 'blocks.0.mlp.fc1.bias',\n",
       " 'blocks.0.mlp.fc2.weight',\n",
       " 'blocks.0.mlp.fc2.bias',\n",
       " 'blocks.1.norm1.weight',\n",
       " 'blocks.1.norm1.bias']"
      ]
     },
     "execution_count": 9,
     "metadata": {},
     "output_type": "execute_result"
    }
   ],
   "source": [
    "model_keys[:20]"
   ]
  },
  {
   "cell_type": "code",
   "execution_count": 31,
   "metadata": {},
   "outputs": [],
   "source": [
    "encoder_state_dict = {key: value for key, value in state_dict.items() if not key.startswith('decoder_')}"
   ]
  },
  {
   "cell_type": "code",
   "execution_count": 32,
   "metadata": {},
   "outputs": [],
   "source": [
    "torch.save(encoder_state_dict, '/mnt/c/My_documents/summer_project/task2_gfm/hls-foundation-os/data/encoder_only_Prithvi_100M.pt')"
   ]
  },
  {
   "cell_type": "code",
   "execution_count": 41,
   "metadata": {},
   "outputs": [],
   "source": [
    "keys_to_drop = ['mask_token', 'decoder_pos_embed', 'decoder_embed.weight', 'decoder_embed.bias', 'decoder_blocks.0.norm1.weight', \n",
    "                'decoder_blocks.0.norm1.bias', 'decoder_blocks.0.attn.qkv.weight', 'decoder_blocks.0.attn.qkv.bias', 'decoder_blocks.0.attn.proj.weight', \n",
    "                'decoder_blocks.0.attn.proj.bias', 'decoder_blocks.0.norm2.weight', 'decoder_blocks.0.norm2.bias', 'decoder_blocks.0.mlp.fc1.weight', \n",
    "                'decoder_blocks.0.mlp.fc1.bias', 'decoder_blocks.0.mlp.fc2.weight', 'decoder_blocks.0.mlp.fc2.bias', 'decoder_blocks.1.norm1.weight', \n",
    "                'decoder_blocks.1.norm1.bias', 'decoder_blocks.1.attn.qkv.weight', 'decoder_blocks.1.attn.qkv.bias', 'decoder_blocks.1.attn.proj.weight', \n",
    "                'decoder_blocks.1.attn.proj.bias', 'decoder_blocks.1.norm2.weight', 'decoder_blocks.1.norm2.bias', 'decoder_blocks.1.mlp.fc1.weight', \n",
    "                'decoder_blocks.1.mlp.fc1.bias', 'decoder_blocks.1.mlp.fc2.weight', 'decoder_blocks.1.mlp.fc2.bias', 'decoder_blocks.2.norm1.weight', \n",
    "                'decoder_blocks.2.norm1.bias', 'decoder_blocks.2.attn.qkv.weight', 'decoder_blocks.2.attn.qkv.bias', 'decoder_blocks.2.attn.proj.weight', \n",
    "                'decoder_blocks.2.attn.proj.bias', 'decoder_blocks.2.norm2.weight', 'decoder_blocks.2.norm2.bias', 'decoder_blocks.2.mlp.fc1.weight', \n",
    "                'decoder_blocks.2.mlp.fc1.bias', 'decoder_blocks.2.mlp.fc2.weight', 'decoder_blocks.2.mlp.fc2.bias', 'decoder_blocks.3.norm1.weight', \n",
    "                'decoder_blocks.3.norm1.bias', 'decoder_blocks.3.attn.qkv.weight', 'decoder_blocks.3.attn.qkv.bias', 'decoder_blocks.3.attn.proj.weight', \n",
    "                'decoder_blocks.3.attn.proj.bias', 'decoder_blocks.3.norm2.weight', 'decoder_blocks.3.norm2.bias', 'decoder_blocks.3.mlp.fc1.weight', \n",
    "                'decoder_blocks.3.mlp.fc1.bias', 'decoder_blocks.3.mlp.fc2.weight', 'decoder_blocks.3.mlp.fc2.bias', 'decoder_blocks.4.norm1.weight', \n",
    "                'decoder_blocks.4.norm1.bias', 'decoder_blocks.4.attn.qkv.weight', 'decoder_blocks.4.attn.qkv.bias', 'decoder_blocks.4.attn.proj.weight', \n",
    "                'decoder_blocks.4.attn.proj.bias', 'decoder_blocks.4.norm2.weight', 'decoder_blocks.4.norm2.bias', 'decoder_blocks.4.mlp.fc1.weight', \n",
    "                'decoder_blocks.4.mlp.fc1.bias', 'decoder_blocks.4.mlp.fc2.weight', 'decoder_blocks.4.mlp.fc2.bias', 'decoder_blocks.5.norm1.weight', \n",
    "                'decoder_blocks.5.norm1.bias', 'decoder_blocks.5.attn.qkv.weight', 'decoder_blocks.5.attn.qkv.bias', 'decoder_blocks.5.attn.proj.weight', \n",
    "                'decoder_blocks.5.attn.proj.bias', 'decoder_blocks.5.norm2.weight', 'decoder_blocks.5.norm2.bias', 'decoder_blocks.5.mlp.fc1.weight', \n",
    "                'decoder_blocks.5.mlp.fc1.bias', 'decoder_blocks.5.mlp.fc2.weight', 'decoder_blocks.5.mlp.fc2.bias', 'decoder_blocks.6.norm1.weight', \n",
    "                'decoder_blocks.6.norm1.bias', 'decoder_blocks.6.attn.qkv.weight', 'decoder_blocks.6.attn.qkv.bias', 'decoder_blocks.6.attn.proj.weight', \n",
    "                'decoder_blocks.6.attn.proj.bias', 'decoder_blocks.6.norm2.weight', 'decoder_blocks.6.norm2.bias', 'decoder_blocks.6.mlp.fc1.weight', \n",
    "                'decoder_blocks.6.mlp.fc1.bias', 'decoder_blocks.6.mlp.fc2.weight', 'decoder_blocks.6.mlp.fc2.bias', 'decoder_blocks.7.norm1.weight', \n",
    "                'decoder_blocks.7.norm1.bias', 'decoder_blocks.7.attn.qkv.weight', 'decoder_blocks.7.attn.qkv.bias', 'decoder_blocks.7.attn.proj.weight', \n",
    "                'decoder_blocks.7.attn.proj.bias', 'decoder_blocks.7.norm2.weight', 'decoder_blocks.7.norm2.bias', 'decoder_blocks.7.mlp.fc1.weight', \n",
    "                'decoder_blocks.7.mlp.fc1.bias', 'decoder_blocks.7.mlp.fc2.weight', 'decoder_blocks.7.mlp.fc2.bias', 'decoder_norm.weight', 'decoder_norm.bias', \n",
    "                'decoder_pred.weight', 'decoder_pred.bias', 'blocks.6.norm1.weight', 'blocks.6.norm1.bias', 'blocks.6.attn.qkv.weight', 'blocks.6.attn.qkv.bias', \n",
    "                'blocks.6.attn.proj.weight', 'blocks.6.attn.proj.bias', 'blocks.6.norm2.weight', 'blocks.6.norm2.bias', 'blocks.6.mlp.fc1.weight', 'blocks.6.mlp.fc1.bias', \n",
    "                'blocks.6.mlp.fc2.weight', 'blocks.6.mlp.fc2.bias', 'blocks.7.norm1.weight', 'blocks.7.norm1.bias', 'blocks.7.attn.qkv.weight', 'blocks.7.attn.qkv.bias', \n",
    "                'blocks.7.attn.proj.weight', 'blocks.7.attn.proj.bias', 'blocks.7.norm2.weight', 'blocks.7.norm2.bias', 'blocks.7.mlp.fc1.weight', 'blocks.7.mlp.fc1.bias', \n",
    "                'blocks.7.mlp.fc2.weight', 'blocks.7.mlp.fc2.bias', 'blocks.8.norm1.weight', 'blocks.8.norm1.bias', 'blocks.8.attn.qkv.weight', 'blocks.8.attn.qkv.bias', \n",
    "                'blocks.8.attn.proj.weight', 'blocks.8.attn.proj.bias', 'blocks.8.norm2.weight', 'blocks.8.norm2.bias', 'blocks.8.mlp.fc1.weight', 'blocks.8.mlp.fc1.bias', \n",
    "                'blocks.8.mlp.fc2.weight', 'blocks.8.mlp.fc2.bias', 'blocks.9.norm1.weight', 'blocks.9.norm1.bias', 'blocks.9.attn.qkv.weight', 'blocks.9.attn.qkv.bias', \n",
    "                'blocks.9.attn.proj.weight', 'blocks.9.attn.proj.bias', 'blocks.9.norm2.weight', 'blocks.9.norm2.bias', 'blocks.9.mlp.fc1.weight', 'blocks.9.mlp.fc1.bias', \n",
    "                'blocks.9.mlp.fc2.weight', 'blocks.9.mlp.fc2.bias', 'blocks.10.norm1.weight', 'blocks.10.norm1.bias', 'blocks.10.attn.qkv.weight', 'blocks.10.attn.qkv.bias', \n",
    "                'blocks.10.attn.proj.weight', 'blocks.10.attn.proj.bias', 'blocks.10.norm2.weight', 'blocks.10.norm2.bias', 'blocks.10.mlp.fc1.weight', 'blocks.10.mlp.fc1.bias', \n",
    "                'blocks.10.mlp.fc2.weight', 'blocks.10.mlp.fc2.bias', 'blocks.11.norm1.weight', 'blocks.11.norm1.bias', 'blocks.11.attn.qkv.weight', 'blocks.11.attn.qkv.bias', \n",
    "                'blocks.11.attn.proj.weight', 'blocks.11.attn.proj.bias', 'blocks.11.norm2.weight', 'blocks.11.norm2.bias', 'blocks.11.mlp.fc1.weight', 'blocks.11.mlp.fc1.bias', \n",
    "                'blocks.11.mlp.fc2.weight', 'blocks.11.mlp.fc2.bias']"
   ]
  },
  {
   "cell_type": "code",
   "execution_count": 42,
   "metadata": {},
   "outputs": [],
   "source": [
    "filtered_state_dict = {key: value for key, value in state_dict.items() if key not in keys_to_drop}"
   ]
  },
  {
   "cell_type": "code",
   "execution_count": 43,
   "metadata": {},
   "outputs": [],
   "source": [
    "torch.save(filtered_state_dict, '/mnt/c/My_documents/summer_project/task2_gfm/hls-foundation-os/data/filtered_Prithvi_100M.pt')"
   ]
  }
 ],
 "metadata": {
  "kernelspec": {
   "display_name": "task2_gfm",
   "language": "python",
   "name": "python3"
  },
  "language_info": {
   "codemirror_mode": {
    "name": "ipython",
    "version": 3
   },
   "file_extension": ".py",
   "mimetype": "text/x-python",
   "name": "python",
   "nbconvert_exporter": "python",
   "pygments_lexer": "ipython3",
   "version": "3.9.0"
  },
  "orig_nbformat": 4
 },
 "nbformat": 4,
 "nbformat_minor": 2
}
